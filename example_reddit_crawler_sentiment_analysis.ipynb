{
 "cells": [
  {
   "cell_type": "code",
   "execution_count": 6,
   "metadata": {
    "collapsed": false
   },
   "outputs": [
    {
     "data": {
      "text/plain": [
       "' \\nReddit Crawler\\nhttps://praw.readthedocs.org/en/v3.1.0/\\nhttps://github.com/praw-dev/praw\\nhttps://github.com/reddit/reddit/wiki/API\\nIn addition to reddits recommendations, your user_agent string should not contain the keyword bot.\\n'"
      ]
     },
     "execution_count": 6,
     "metadata": {},
     "output_type": "execute_result"
    }
   ],
   "source": [
    "\"\"\" \n",
    "Reddit Crawler\n",
    "https://praw.readthedocs.org/en/v3.1.0/\n",
    "https://github.com/praw-dev/praw\n",
    "https://github.com/reddit/reddit/wiki/API\n",
    "In addition to reddits recommendations, your user_agent string should not contain the keyword bot.\n",
    "\"\"\""
   ]
  },
  {
   "cell_type": "code",
   "execution_count": 23,
   "metadata": {
    "collapsed": false
   },
   "outputs": [],
   "source": [
    "# !pip install praw"
   ]
  },
  {
   "cell_type": "code",
   "execution_count": 24,
   "metadata": {
    "collapsed": false
   },
   "outputs": [
    {
     "name": "stdout",
     "output_type": "stream",
     "text": [
      "['206 :: Last day to Save WiFi: Act Now To Save WiFi From The FCC - Keep OpenWr...', '8 :: How Debian Is Trying to Shut Down the CIA and Make Software Trustworthy ...', '10 :: Munich now a major contributor to open source', '3 :: Introduction to Matrix \\xe2\\x80\\x94 Free & Open Source messenger with audio/video c...', '6 :: I made some software that helps you get paid to work on open source - fo...']\n",
      "{}\n"
     ]
    }
   ],
   "source": [
    "\"Getting Started\"\n",
    "import praw\n",
    "r = praw.Reddit(user_agent='my_cool_application')\n",
    "submissions = r.get_subreddit('opensource').get_hot(limit=5)\n",
    "print [str(x) for x in submissions]\n",
    "\n",
    "# user_name = \"_Daimon_\"\n",
    "user_name = \"babysnorlax\"\n",
    "user = r.get_redditor(user_name)\n",
    "\n",
    "thing_limit = 10\n",
    "gen = user.get_submitted(limit=thing_limit)\n",
    "#gen = user.get_comments(limit=thing_limit)\n",
    "\n",
    "karma_by_subreddit = {}\n",
    "for thing in gen:\n",
    "    subreddit = thing.subreddit.display_name\n",
    "    karma_by_subreddit[subreddit] = (karma_by_subreddit.get(subreddit, 0) + thing.score)\n",
    "\n",
    "import pprint\n",
    "pprint.pprint(karma_by_subreddit)"
   ]
  },
  {
   "cell_type": "code",
   "execution_count": 59,
   "metadata": {
    "collapsed": false
   },
   "outputs": [
    {
     "name": "stdout",
     "output_type": "stream",
     "text": [
      "14 :: 11 Actors Who Were on Gilmore Girls Before They Were Famous\n",
      "11 :: marty...\n",
      "[u\"I hate how he pretends to not know Rory while dating Lucy. I don't understand it at all.\", u\"Marty is probably my favorite of all of Rory's guys, although they don't actually date.  Him pretending to not know Rory is stupid and immature, but at the same time, it's obvious that he still has feelings for Rory when he hits on her at the party.  So while he acted immaturely, I can see why he would be thrown off by seeing Rory again while he was dating Lucy, and just kind of ignore her out of self-preservation.\\n\\nAlso, while I don't approve of the way he acted, I still think his overall conduct is better than the other guys'.  He treats her much better than Jess does, and doesn't cheat on her or with her.\", u\"I agree! Marty had the best qualities of at least Dean, and Jess. He was sweet and thoughtful like Dean. But not too clingy. He didn't try to ruin or get in the middle of her relationship with Dean when they got back together like Jess would have. But he was smart like Jess, and could keep Rory on her toes without being an ass about it. \", u'The way Marty acts in S7 is basically non-canon to me. It\\'s totally inconsistent with his character, and if you listen to the Gilmore Guys ep where they have Wayne on it\\'s pretty obvious he feels the same way.\\n\\nThat said, Marty\\'s my favorite of Rory\\'s \"suitors\". He\\'s nice, real, honest, but not obsessive. His worst trait I guess would be he\\'s a bit self-pitying. Also the fact that his dad is his uncle and vice-versa is pretty hilarious.', u\"Except we don't know what Marty would be like with Rory. It's nice to say that he'd be her best suitor but a lot of Rory's boyfriend's weird creepy behavior didn't know until after they started dating so who knows how strange Marty really is. \"]\n"
     ]
    }
   ],
   "source": [
    "# Use a reddit bot\n",
    "import praw\n",
    "r = praw.Reddit('Gilmore Girls related-question monitor by /u/username v 19.0. ')\n",
    "r.login('username','password')\n",
    "\n",
    "# Get subreddit\n",
    "subreddit = r.get_subreddit('gilmoregirls')\n",
    "for submission in subreddit.get_top(limit=2):\n",
    "#     Test if it contains a Gilmore Girls-related question\n",
    "    ggWords = ['lorelai','rory']\n",
    "    op_text = submission.selftext.lower()\n",
    "    has_gg = any(string in op_text for string in ggWords)\n",
    "    \n",
    "#     Look through comments from last top submission\n",
    "#     print submission\n",
    "    flat_comments = praw.helpers.flatten_tree(submission.comments)\n",
    "\n",
    "# Create comments list for last top submission\n",
    "comment_ls = [comment.body for comment in flat_comments]\n",
    "# print comment_ls"
   ]
  },
  {
   "cell_type": "code",
   "execution_count": 92,
   "metadata": {
    "collapsed": false
   },
   "outputs": [
    {
     "name": "stdout",
     "output_type": "stream",
     "text": [
      "negative\n"
     ]
    }
   ],
   "source": [
    "# sentiment analysis around Marty, from Gilmore Girls\n",
    "# http://www.laurentluce.com/posts/twitter-sentiment-analysis-using-python-and-nltk/\n",
    "import nltk\n",
    "\n",
    "pos_tweets = [('I agree! Marty had the best qualities of at least Dean, and Jess. He was sweet and thoughtful like Dean. But not too clingy. He didnt try to ruin or get in the middle of her relationship with Dean when they got back together like Jess would have. But he was smart like Jess, and could keep Rory on her toes without being an ass about it','positive')]\n",
    "neg_tweets = [('I hate how he pretends to not know Rory while dating Lucy. I dont understand it at all','negative')]\n",
    "tweets = []\n",
    "\n",
    "def filter(tweets):\n",
    "    tweets_filter=list()\n",
    "    for words in tweets:\n",
    "        words_filtered = [e.lower() for e in words.split() if len(e) >= 3]\n",
    "        tweets_filter.append(words_filtered)\n",
    "    return tweets_filter\n",
    "\n",
    "for (words, sentiment) in pos_tweets + neg_tweets:\n",
    "    words_filtered = [e.lower() for e in words.split() if len(e) >= 3]\n",
    "    tweets.append((words_filtered, sentiment))\n",
    "\n",
    "tokenize_comments = filter(comment_ls)\n",
    "# test_tweets = [(ls,'positive') for ls in tokenize_comments]\n",
    "# print test_tweets\n",
    "\n",
    "def get_words_in_tweets(tweets):\n",
    "    all_words = []\n",
    "    for (words, sentiment) in tweets:\n",
    "        all_words.extend(words)\n",
    "    return all_words\n",
    "\n",
    "def get_word_features(wordlist):\n",
    "    wordlist = nltk.FreqDist(wordlist)\n",
    "    word_features = wordlist.keys()\n",
    "    return word_features\n",
    "\n",
    "word_features = get_word_features(get_words_in_tweets(tweets))\n",
    "\n",
    "def extract_features(document):\n",
    "    document_words = set(document)\n",
    "    features = {}\n",
    "    for word in word_features:\n",
    "        features['contains(%s)' % word] = (word in document_words)\n",
    "    return features\n",
    "\n",
    "training_set = nltk.classify.apply_features(extract_features, tweets)\n",
    "classifier = nltk.NaiveBayesClassifier.train(training_set)\n",
    "\n",
    "print classifier.classify(extract_features(comment_ls[1].split()))"
   ]
  },
  {
   "cell_type": "code",
   "execution_count": 93,
   "metadata": {
    "collapsed": false
   },
   "outputs": [
    {
     "data": {
      "text/plain": [
       "u\"Marty is probably my favorite of all of Rory's guys, although they don't actually date.  Him pretending to not know Rory is stupid and immature, but at the same time, it's obvious that he still has feelings for Rory when he hits on her at the party.  So while he acted immaturely, I can see why he would be thrown off by seeing Rory again while he was dating Lucy, and just kind of ignore her out of self-preservation.\\n\\nAlso, while I don't approve of the way he acted, I still think his overall conduct is better than the other guys'.  He treats her much better than Jess does, and doesn't cheat on her or with her.\""
      ]
     },
     "execution_count": 93,
     "metadata": {},
     "output_type": "execute_result"
    }
   ],
   "source": [
    "comment_ls[1]"
   ]
  },
  {
   "cell_type": "markdown",
   "metadata": {},
   "source": [
    "As you can tell, our training set is very limited, and there is not a clear sentiment interpretation from the test sentence as well.  However, it is a fun example of looking at a subreddit's comments and performing sentiment analysis using a Naive Bayes Classifier."
   ]
  }
 ],
 "metadata": {
  "kernelspec": {
   "display_name": "Python 2",
   "language": "python",
   "name": "python2"
  },
  "language_info": {
   "codemirror_mode": {
    "name": "ipython",
    "version": 2
   },
   "file_extension": ".py",
   "mimetype": "text/x-python",
   "name": "python",
   "nbconvert_exporter": "python",
   "pygments_lexer": "ipython2",
   "version": "2.7.10"
  }
 },
 "nbformat": 4,
 "nbformat_minor": 0
}
